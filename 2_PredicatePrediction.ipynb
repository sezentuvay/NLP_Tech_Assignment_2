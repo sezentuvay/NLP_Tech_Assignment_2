{
 "cells": [
  {
   "cell_type": "markdown",
   "metadata": {},
   "source": [
    "# 2 Predicate Prediction\n",
    "\n",
    "This script provides a function predict the predicates <br>\n",
    "\n",
    "\n",
    "*Input:*  \n",
    "- executionMode_dict\n",
    "- mode               -> ('production' / 'sample')\n",
    "- model              -> ('train' / 'test')\n",
    "- print_status       -> (True / False)\n",
    "- sentence_limit = None  (limit of sentences to import (default: None)\n",
    "\n",
    "*Output:* \n",
    "- executionMode_dict \n"
   ]
  },
  {
   "cell_type": "markdown",
   "metadata": {},
   "source": [
    "## Preparation"
   ]
  },
  {
   "cell_type": "code",
   "execution_count": 1,
   "metadata": {},
   "outputs": [],
   "source": [
    "import pandas as pd"
   ]
  },
  {
   "cell_type": "markdown",
   "metadata": {},
   "source": [
    "## Reading data in"
   ]
  },
  {
   "cell_type": "code",
   "execution_count": 3,
   "metadata": {},
   "outputs": [],
   "source": [
    "def predictPredicates(executionMode_dict,\n",
    "                      mode,                   #('production' / 'sample')\n",
    "                      model,                  #('train' / 'test')\n",
    "                      print_status   = False,\n",
    "                      sentence_limit = None):\n",
    "    \n",
    "\n",
    "    path_to_input = executionMode_dict[mode]['intermediate'][model]['1_imported']\n",
    "    path_to_save = '../data/intermediate/' + mode + '_' + model +'_02_predictedPredicates.csv'\n",
    "    executionMode_dict[mode]['intermediate'][model]['2_predicatesPredicted'] = path_to_save\n",
    "    \n",
    "    # read dataframe in\n",
    "    df = pd.read_csv(path_to_input)\n",
    "    upos_list = df['upos'].tolist()\n",
    "    \n",
    "    # insert predicted predicates here\n",
    "    predicate_list = []\n",
    "    for upos in upos_list:\n",
    "        if upos == 'VERB' or upos == 'AUX':\n",
    "            predicate_list.append(True)\n",
    "        else:\n",
    "            predicate_list.append(False)\n",
    "    \n",
    "    df['predicate_prediction'] = predicate_list\n",
    "\n",
    "    display(df.head(5))\n",
    "    \n",
    "    #write dataframe out\n",
    "    df.to_csv(path_to_save, index=False)\n",
    "    \n",
    "    \n",
    "    if print_status == True:\n",
    "        \n",
    "        print('\\n\\n#### 2 Predicate Prediction ####\\n\\n')\n",
    "        print(' - completed')\n",
    "    \n",
    "    return executionMode_dict"
   ]
  },
  {
   "cell_type": "code",
   "execution_count": null,
   "metadata": {},
   "outputs": [],
   "source": []
  }
 ],
 "metadata": {
  "kernelspec": {
   "display_name": "Python 3 (ipykernel)",
   "language": "python",
   "name": "python3"
  },
  "language_info": {
   "codemirror_mode": {
    "name": "ipython",
    "version": 3
   },
   "file_extension": ".py",
   "mimetype": "text/x-python",
   "name": "python",
   "nbconvert_exporter": "python",
   "pygments_lexer": "ipython3",
   "version": "3.9.7"
  }
 },
 "nbformat": 4,
 "nbformat_minor": 4
}
